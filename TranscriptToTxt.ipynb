{
 "metadata": {
  "language_info": {
   "codemirror_mode": {
    "name": "ipython",
    "version": 3
   },
   "file_extension": ".py",
   "mimetype": "text/x-python",
   "name": "python",
   "nbconvert_exporter": "python",
   "pygments_lexer": "ipython3",
   "version": "3.7.7-final"
  },
  "orig_nbformat": 2,
  "kernelspec": {
   "name": "python_defaultSpec_1595891567395",
   "display_name": "Python 3.7.7 64-bit ('hackathon': conda)"
  }
 },
 "nbformat": 4,
 "nbformat_minor": 2,
 "cells": [
  {
   "cell_type": "code",
   "execution_count": 1,
   "metadata": {},
   "outputs": [],
   "source": [
    "import os\n",
    "os.chdir('/Users/jeffreymew/New Documents/TeamsSummarizer')"
   ]
  },
  {
   "cell_type": "code",
   "execution_count": 2,
   "metadata": {},
   "outputs": [],
   "source": [
    "class Message:\n",
    "    def __init__(self, user, message):\n",
    "        self.user = user\n",
    "        self.message = message\n",
    "    \n",
    "    def append(self, message):\n",
    "        self.message = self.message + \" \" + message\n",
    "\n",
    "class Transcript:\n",
    "    def __init__(self):\n",
    "        self.conversation = []\n",
    "\n",
    "    def addMessage(self, user, message):\n",
    "        if len(self.conversation) > 0 and self.conversation[-1].user == user:\n",
    "            prevMessage = self.conversation[-1]\n",
    "            prevMessage.append(message)\n",
    "        else:\n",
    "            newMessage = Message(user, message)\n",
    "            self.conversation.append(newMessage)\n",
    "\n",
    "    def exportAsTxt(self):\n",
    "        with open(\"output.txt\", \"w\") as txt_file:\n",
    "            for msg in self.conversation:\n",
    "                txt_file.write(\"\".join(msg.message) + \" \")\n",
    "            \n",
    "    def toString(self):\n",
    "        output = \"\"\n",
    "        for msg in self.conversation:\n",
    "            output += \"\".join(msg.message) + \" \"\n",
    "        return output"
   ]
  },
  {
   "cell_type": "code",
   "execution_count": 3,
   "metadata": {
    "tags": []
   },
   "outputs": [],
   "source": [
    "transcript = Transcript()\n",
    "\n",
    "with open('transcript.vtt', 'rb') as subtitles:\n",
    "    for count, line in enumerate(subtitles, start=0):\n",
    "        if count % 3 == 0:\n",
    "            line = str(line)\n",
    "            if line.find('<') == -1:\n",
    "                continue\n",
    "            \n",
    "            user = line[line.find('<') + 1 : line.find('>')]\n",
    "            msg = line[line.find('>') + 1 : -9]\n",
    "            transcript.addMessage(user, msg)"
   ]
  },
  {
   "cell_type": "code",
   "execution_count": 55,
   "metadata": {},
   "outputs": [],
   "source": [
    "# For debug purposes\n",
    "transcript.exportAsTxt()"
   ]
  },
  {
   "cell_type": "markdown",
   "metadata": {},
   "source": [
    "# Version 1 SUMMARY API"
   ]
  },
  {
   "cell_type": "code",
   "execution_count": 49,
   "metadata": {
    "tags": []
   },
   "outputs": [],
   "source": [
    "# Only can ping this API 100 times a day so please dont excessively ping this\n",
    "import requests\n",
    "\n",
    "header_params = {\"Expect\":\"100-continue\"}\n",
    "API_KEY = \"F12AE320EF\"\n",
    "API_ENDPOINT = \"https://api.smmry.com\"\n",
    "\n",
    "data = {\n",
    "    \"sm_api_input\":transcript.toString()\n",
    "}\n",
    "params = {\n",
    "    \"SM_API_KEY\":API_KEY,\n",
    "    \"SM_LENGTH\": 4\n",
    "}\n",
    "\n",
    "r = requests.post(url=API_ENDPOINT, params=params, data=data, headers=header_params)"
   ]
  },
  {
   "cell_type": "code",
   "execution_count": 54,
   "metadata": {
    "tags": []
   },
   "outputs": [
    {
     "output_type": "stream",
     "name": "stdout",
     "text": "Your meeting has been summarized:\nYeah, OK. Yeah, the transcriber has started, Yeah, but only you can see it. Oh yeah, yeah yeah no, I just want to like like have more data for it to like. Yeah, yeah interpret terms of like yeah, that's true. So like just ignore that part parts right? Are you testing? Yeah, I yeah I agree.\n"
    }
   ],
   "source": [
    "summarizedText = r.json()['sm_api_content']\n",
    "print(\"Your meeting has been summarized:\")\n",
    "print(summarizedText)"
   ]
  },
  {
   "cell_type": "markdown",
   "metadata": {},
   "source": [
    "# Version 2 BERT MODEL"
   ]
  },
  {
   "cell_type": "code",
   "execution_count": 4,
   "metadata": {
    "tags": []
   },
   "outputs": [
    {
     "output_type": "stream",
     "name": "stderr",
     "text": "Downloading: 100%|██████████| 434/434 [00:00<00:00, 185kB/s]\nDownloading: 100%|██████████| 1.34G/1.34G [01:41<00:00, 13.2MB/s]\nDownloading: 100%|██████████| 232k/232k [00:00<00:00, 426kB/s]\nI need someone else's computer for little bit longer than that. I'm just going to support for a little bit longer until we have to drop. 'cause like for like if you just record a regular meeting with the transcribing like it will still record even if we require for like 5 seconds, right? Oh yeah, yeah yeah no, I just want to like like have more data for it to like. OK, I can start well, I guess I can actually show like evolution standardization just like now, but like I can show what I was thinking for the presentation at least. 'cause we're going to do the video through like we can pretend the entire video is a teams meeting right? Yeah, I didn't realize it was already like talking to customers as well, which is pretty horrible. Yeah, so maybe you can detect like I feel like it's really easy to checking people talking over each other. Wait Jeffrey, do you think you can't see it because you didn't start the meeting like you didn't create this meeting yourself? Oh so our suggestion is like it's actually a summary, like 'cause on the meeting in teams is just like word for word transcribing, just text to speech. And I feel like when it's when it doesn't know where you're saying in terms of like the word, I'll just like skip it if you're saying like something random, like not a real word, or like there's some noise in the background, there's not a real word then like.\n"
    }
   ],
   "source": [
    "from summarizer import Summarizer\n",
    "model = Summarizer()\n",
    "result = model(transcript.toString(), min_length=60)\n",
    "full = ''.join(result)\n",
    "print(full)"
   ]
  },
  {
   "cell_type": "code",
   "execution_count": null,
   "metadata": {},
   "outputs": [],
   "source": []
  }
 ]
}